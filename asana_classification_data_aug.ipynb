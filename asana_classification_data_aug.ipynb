{
 "cells": [
  {
   "cell_type": "code",
   "execution_count": 1,
   "id": "51258604-a14a-4615-8903-7bda7582ae41",
   "metadata": {},
   "outputs": [],
   "source": [
    "import numpy as np\n",
    "import tensorflow as tf\n",
    "import matplotlib.pyplot as plt\n",
    "from tensorflow.keras.preprocessing import image"
   ]
  },
  {
   "cell_type": "markdown",
   "id": "e4a4abd2-aad3-40ca-b9c0-4dbb2e94c900",
   "metadata": {},
   "source": [
    "## Data Pre-processing and Data Augmentation\n",
    "\n",
    "Tutorial from https://blog.keras.io/building-powerful-image-classification-models-using-very-little-data.html"
   ]
  },
  {
   "cell_type": "code",
   "execution_count": 59,
   "id": "a2924298-8a5d-4547-8612-547df0da0880",
   "metadata": {},
   "outputs": [
    {
     "name": "stdout",
     "output_type": "stream",
     "text": [
      "Found 1147 images belonging to 5 classes.\n",
      "Found 151 images belonging to 5 classes.\n",
      "Found 156 images belonging to 5 classes.\n"
     ]
    }
   ],
   "source": [
    "from keras.preprocessing.image import ImageDataGenerator\n",
    "\n",
    "# to avoid problems with truncated images during model.fit\n",
    "from PIL import ImageFile\n",
    "ImageFile.LOAD_TRUNCATED_IMAGES = True\n",
    "\n",
    "batch_size = 16\n",
    "\n",
    "# this is the augmentation configuration we will use for training\n",
    "train_datagen = ImageDataGenerator(\n",
    "        rescale=1./255,\n",
    "        shear_range=0.2,\n",
    "        zoom_range=0.2,\n",
    "        horizontal_flip=True)\n",
    "\n",
    "#train_datagen = ImageDataGenerator(rescale = 1./255)\n",
    "# this is the augmentation configuration we will use for testing:\n",
    "# only rescaling\n",
    "val_datagen = ImageDataGenerator(rescale=1./255)\n",
    "test_datagen = ImageDataGenerator(rescale=1./255)\n",
    "\n",
    "# this is a generator that will read pictures found in\n",
    "# subfolers of 'data/train', and indefinitely generate\n",
    "# batches of augmented image data\n",
    "train_generator = train_datagen.flow_from_directory(\n",
    "        'C:/Users/Kris/Desktop/Data_Science_Bootcamp/Final_project/data/train',\n",
    "        #'C:/Users/Kris/Downloads/archive/output/train',  # this is the target directory\n",
    "        target_size=(150, 150),  # all images will be resized to 150x150\n",
    "        batch_size=batch_size,\n",
    "        class_mode='categorical')  # since we use binary_crossentropy loss, we need binary labels\n",
    "\n",
    "# this is a similar generator, for validation data\n",
    "validation_generator = val_datagen.flow_from_directory(\n",
    "        'C:/Users/Kris/Desktop/Data_Science_Bootcamp/Final_project/data/val',\n",
    "        #'C:/Users/Kris/Downloads/archive/output/val',\n",
    "        target_size=(150, 150),\n",
    "        batch_size=batch_size,\n",
    "        class_mode='categorical')\n",
    "\n",
    "test_generator = test_datagen.flow_from_directory(\n",
    "        'C:/Users/Kris/Desktop/Data_Science_Bootcamp/Final_project/data/test',\n",
    "        #'C:/Users/Kris/Downloads/archive/output/test',\n",
    "        target_size=(150, 150),\n",
    "        batch_size=batch_size,\n",
    "        shuffle = False,\n",
    "        class_mode='categorical')"
   ]
  },
  {
   "cell_type": "markdown",
   "id": "7211bef5-ec56-43d5-abee-263779aad0e9",
   "metadata": {},
   "source": [
    "## Create and fit Model"
   ]
  },
  {
   "cell_type": "code",
   "execution_count": 39,
   "id": "119345cd-8b62-4635-9ded-29d400a3a3c7",
   "metadata": {
    "tags": []
   },
   "outputs": [],
   "source": [
    "from keras.models import Sequential\n",
    "from keras.layers import Conv2D, MaxPooling2D\n",
    "from keras.layers import Activation, Dropout, Flatten, Dense, BatchNormalization\n",
    "\n",
    "model = Sequential()\n",
    "model.add(Conv2D(32, (3, 3), input_shape=(150, 150,3)))\n",
    "model.add(Activation('relu'))\n",
    "model.add(MaxPooling2D(pool_size=(2, 2)))\n",
    "\n",
    "model.add(Conv2D(32, (3, 3)))\n",
    "model.add(Activation('relu'))\n",
    "model.add(MaxPooling2D(pool_size=(2, 2)))\n",
    "\n",
    "model.add(Conv2D(64, (3, 3)))\n",
    "model.add(Activation('relu'))\n",
    "model.add(MaxPooling2D(pool_size=(2, 2)))\n",
    "\n",
    "# model.add(Conv2D(128, (3, 3)))\n",
    "# model.add(Activation('relu'))\n",
    "# model.add(MaxPooling2D(pool_size=(2, 2)))\n",
    "\n",
    "model.add(Flatten())  # this converts our 3D feature maps to 1D feature vectors\n",
    "model.add(Dense(64))\n",
    "model.add(Activation('relu'))\n",
    "model.add(Dropout(0.5))\n",
    "model.add(Dense(5))\n",
    "model.add(Activation('sigmoid'))\n",
    "#model.add(Activation('softmax'))\n",
    "\n",
    "model.compile(loss='categorical_crossentropy',\n",
    "              optimizer='adam',\n",
    "              metrics=['accuracy'])"
   ]
  },
  {
   "cell_type": "code",
   "execution_count": 4,
   "id": "7797385b-e023-479a-8340-983d4ebfafdd",
   "metadata": {},
   "outputs": [],
   "source": [
    "# define callbacks for model fit method\n",
    "\n",
    "my_calls = [tf.keras.callbacks.EarlyStopping(monitor='accuracy',patience=4, restore_best_weights=True),\n",
    "           tf.keras.callbacks.ReduceLROnPlateau(monitor='accuracy', patience=4, factor=.01, min_lr=1e-5, verbose = 1),\n",
    "           tf.keras.callbacks.ModelCheckpoint(\"my_model_{epoch}\", monitor='accuracy', save_best_only=True, verbose=1)\n",
    "           ]"
   ]
  },
  {
   "cell_type": "code",
   "execution_count": 43,
   "id": "35f8177e-85dd-4b07-90b1-5e0dfa23c343",
   "metadata": {
    "tags": []
   },
   "outputs": [
    {
     "name": "stdout",
     "output_type": "stream",
     "text": [
      "Epoch 1/20\n",
      "62/62 [==============================] - ETA: 0s - loss: 1.6126 - accuracy: 0.2543WARNING:tensorflow:Your input ran out of data; interrupting training. Make sure that your dataset or generator can generate at least `steps_per_epoch * epochs` batches (in this case, 25 batches). You may need to use the repeat() function when building your dataset.\n",
      "62/62 [==============================] - 28s 443ms/step - loss: 1.6126 - accuracy: 0.2543 - val_loss: 1.5000 - val_accuracy: 0.4503\n",
      "\n",
      "Epoch 00001: accuracy did not improve from 0.80142\n",
      "Epoch 2/20\n",
      "62/62 [==============================] - 24s 378ms/step - loss: 1.4360 - accuracy: 0.3982\n",
      "\n",
      "Epoch 00002: accuracy did not improve from 0.80142\n",
      "Epoch 3/20\n",
      "62/62 [==============================] - 25s 396ms/step - loss: 1.1382 - accuracy: 0.5664\n",
      "\n",
      "Epoch 00003: accuracy did not improve from 0.80142\n",
      "Epoch 4/20\n",
      "62/62 [==============================] - 24s 393ms/step - loss: 1.0437 - accuracy: 0.5988\n",
      "\n",
      "Epoch 00004: accuracy did not improve from 0.80142\n",
      "Epoch 5/20\n",
      "62/62 [==============================] - 24s 380ms/step - loss: 0.9642 - accuracy: 0.6201\n",
      "\n",
      "Epoch 00005: accuracy did not improve from 0.80142\n",
      "Epoch 6/20\n",
      "62/62 [==============================] - 24s 392ms/step - loss: 0.8458 - accuracy: 0.6738\n",
      "\n",
      "Epoch 00006: accuracy did not improve from 0.80142\n",
      "Epoch 7/20\n",
      "62/62 [==============================] - 25s 402ms/step - loss: 0.7848 - accuracy: 0.6920\n",
      "\n",
      "Epoch 00007: accuracy did not improve from 0.80142\n",
      "Epoch 8/20\n",
      "62/62 [==============================] - 24s 392ms/step - loss: 0.7105 - accuracy: 0.7042\n",
      "\n",
      "Epoch 00008: accuracy did not improve from 0.80142\n",
      "Epoch 9/20\n",
      "62/62 [==============================] - 24s 388ms/step - loss: 0.6777 - accuracy: 0.7497\n",
      "\n",
      "Epoch 00009: accuracy did not improve from 0.80142\n",
      "Epoch 10/20\n",
      "62/62 [==============================] - 24s 385ms/step - loss: 0.6019 - accuracy: 0.7771\n",
      "\n",
      "Epoch 00010: accuracy did not improve from 0.80142\n",
      "Epoch 11/20\n",
      "62/62 [==============================] - 24s 394ms/step - loss: 0.5762 - accuracy: 0.7710\n",
      "\n",
      "Epoch 00011: accuracy did not improve from 0.80142\n",
      "Epoch 12/20\n",
      "62/62 [==============================] - 24s 391ms/step - loss: 0.5461 - accuracy: 0.7842\n",
      "\n",
      "Epoch 00012: accuracy did not improve from 0.80142\n",
      "Epoch 13/20\n",
      "62/62 [==============================] - 24s 387ms/step - loss: 0.5788 - accuracy: 0.7660\n",
      "\n",
      "Epoch 00013: accuracy did not improve from 0.80142\n",
      "Epoch 14/20\n",
      "62/62 [==============================] - 25s 396ms/step - loss: 0.5197 - accuracy: 0.8146\n",
      "\n",
      "Epoch 00014: accuracy improved from 0.80142 to 0.81459, saving model to my_model_14\n",
      "INFO:tensorflow:Assets written to: my_model_14\\assets\n",
      "Epoch 15/20\n",
      " 6/62 [=>............................] - ETA: 23s - loss: 0.4976 - accuracy: 0.7917"
     ]
    },
    {
     "name": "stderr",
     "output_type": "stream",
     "text": [
      "C:\\Users\\Kris\\anaconda3\\envs\\tf\\lib\\site-packages\\PIL\\Image.py:945: UserWarning: Palette images with Transparency expressed in bytes should be converted to RGBA images\n",
      "  warnings.warn(\n"
     ]
    },
    {
     "name": "stdout",
     "output_type": "stream",
     "text": [
      "62/62 [==============================] - 25s 399ms/step - loss: 0.4690 - accuracy: 0.8166\n",
      "\n",
      "Epoch 00015: accuracy improved from 0.81459 to 0.81662, saving model to my_model_15\n",
      "INFO:tensorflow:Assets written to: my_model_15\\assets\n",
      "Epoch 16/20\n",
      "11/62 [====>.........................] - ETA: 21s - loss: 0.5197 - accuracy: 0.7784"
     ]
    },
    {
     "name": "stderr",
     "output_type": "stream",
     "text": [
      "C:\\Users\\Kris\\anaconda3\\envs\\tf\\lib\\site-packages\\PIL\\Image.py:945: UserWarning: Palette images with Transparency expressed in bytes should be converted to RGBA images\n",
      "  warnings.warn(\n"
     ]
    },
    {
     "name": "stdout",
     "output_type": "stream",
     "text": [
      "62/62 [==============================] - 25s 401ms/step - loss: 0.4766 - accuracy: 0.8166\n",
      "\n",
      "Epoch 00016: accuracy did not improve from 0.81662\n",
      "Epoch 17/20\n",
      "62/62 [==============================] - 24s 388ms/step - loss: 0.4976 - accuracy: 0.8257\n",
      "\n",
      "Epoch 00017: accuracy improved from 0.81662 to 0.82573, saving model to my_model_17\n",
      "INFO:tensorflow:Assets written to: my_model_17\\assets\n",
      "Epoch 18/20\n",
      " 8/62 [==>...........................] - ETA: 23s - loss: 0.4482 - accuracy: 0.8281"
     ]
    },
    {
     "name": "stderr",
     "output_type": "stream",
     "text": [
      "C:\\Users\\Kris\\anaconda3\\envs\\tf\\lib\\site-packages\\PIL\\Image.py:945: UserWarning: Palette images with Transparency expressed in bytes should be converted to RGBA images\n",
      "  warnings.warn(\n"
     ]
    },
    {
     "name": "stdout",
     "output_type": "stream",
     "text": [
      "62/62 [==============================] - 24s 389ms/step - loss: 0.4541 - accuracy: 0.8328\n",
      "\n",
      "Epoch 00018: accuracy improved from 0.82573 to 0.83283, saving model to my_model_18\n",
      "INFO:tensorflow:Assets written to: my_model_18\\assets\n",
      "Epoch 19/20\n",
      "11/62 [====>.........................] - ETA: 20s - loss: 0.4184 - accuracy: 0.8807"
     ]
    },
    {
     "name": "stderr",
     "output_type": "stream",
     "text": [
      "C:\\Users\\Kris\\anaconda3\\envs\\tf\\lib\\site-packages\\PIL\\Image.py:945: UserWarning: Palette images with Transparency expressed in bytes should be converted to RGBA images\n",
      "  warnings.warn(\n"
     ]
    },
    {
     "name": "stdout",
     "output_type": "stream",
     "text": [
      "62/62 [==============================] - 25s 399ms/step - loss: 0.4076 - accuracy: 0.8480\n",
      "\n",
      "Epoch 00019: accuracy improved from 0.83283 to 0.84802, saving model to my_model_19\n",
      "INFO:tensorflow:Assets written to: my_model_19\\assets\n",
      "Epoch 20/20\n",
      "30/62 [=============>................] - ETA: 12s - loss: 0.4093 - accuracy: 0.8147"
     ]
    },
    {
     "name": "stderr",
     "output_type": "stream",
     "text": [
      "C:\\Users\\Kris\\anaconda3\\envs\\tf\\lib\\site-packages\\PIL\\Image.py:945: UserWarning: Palette images with Transparency expressed in bytes should be converted to RGBA images\n",
      "  warnings.warn(\n"
     ]
    },
    {
     "name": "stdout",
     "output_type": "stream",
     "text": [
      "62/62 [==============================] - 25s 398ms/step - loss: 0.4005 - accuracy: 0.8328\n",
      "\n",
      "Epoch 00020: accuracy did not improve from 0.84802\n"
     ]
    },
    {
     "data": {
      "text/plain": [
       "<keras.callbacks.History at 0x2eeec5263d0>"
      ]
     },
     "execution_count": 43,
     "metadata": {},
     "output_type": "execute_result"
    }
   ],
   "source": [
    "model.fit(\n",
    "        train_generator,\n",
    "        steps_per_epoch=1000 // batch_size,\n",
    "        epochs=20,\n",
    "        callbacks = my_calls,\n",
    "        validation_data=validation_generator,\n",
    "        validation_steps=400 // batch_size)\n"
   ]
  },
  {
   "cell_type": "code",
   "execution_count": 44,
   "id": "b94b7d87-a22d-4f41-80a3-e38b6e261aaf",
   "metadata": {},
   "outputs": [
    {
     "name": "stdout",
     "output_type": "stream",
     "text": [
      "10/10 [==============================] - 3s 302ms/step - loss: 0.2854 - accuracy: 0.9103\n"
     ]
    },
    {
     "data": {
      "text/plain": [
       "[0.28536665439605713, 0.9102563858032227]"
      ]
     },
     "execution_count": 44,
     "metadata": {},
     "output_type": "execute_result"
    }
   ],
   "source": [
    "model.evaluate(test_generator)"
   ]
  },
  {
   "cell_type": "markdown",
   "id": "339a7f2f-54e0-4a7f-aef2-258c95446861",
   "metadata": {},
   "source": [
    "## Save model"
   ]
  },
  {
   "cell_type": "code",
   "execution_count": 45,
   "id": "d7c4dd52-8ff9-45c5-b075-1c99cb029e3d",
   "metadata": {},
   "outputs": [
    {
     "name": "stdout",
     "output_type": "stream",
     "text": [
      "INFO:tensorflow:Assets written to: models/data_aug_model\\assets\n"
     ]
    }
   ],
   "source": [
    "model.save('models/data_aug_model')"
   ]
  },
  {
   "cell_type": "code",
   "execution_count": 46,
   "id": "4f94cce3-600d-4142-8fcb-6f45316eef12",
   "metadata": {},
   "outputs": [
    {
     "name": "stdout",
     "output_type": "stream",
     "text": [
      "Model: \"sequential_2\"\n",
      "_________________________________________________________________\n",
      "Layer (type)                 Output Shape              Param #   \n",
      "=================================================================\n",
      "conv2d_4 (Conv2D)            (None, 148, 148, 32)      896       \n",
      "_________________________________________________________________\n",
      "activation_6 (Activation)    (None, 148, 148, 32)      0         \n",
      "_________________________________________________________________\n",
      "max_pooling2d_3 (MaxPooling2 (None, 74, 74, 32)        0         \n",
      "_________________________________________________________________\n",
      "conv2d_5 (Conv2D)            (None, 72, 72, 32)        9248      \n",
      "_________________________________________________________________\n",
      "activation_7 (Activation)    (None, 72, 72, 32)        0         \n",
      "_________________________________________________________________\n",
      "max_pooling2d_4 (MaxPooling2 (None, 36, 36, 32)        0         \n",
      "_________________________________________________________________\n",
      "conv2d_6 (Conv2D)            (None, 34, 34, 64)        18496     \n",
      "_________________________________________________________________\n",
      "activation_8 (Activation)    (None, 34, 34, 64)        0         \n",
      "_________________________________________________________________\n",
      "max_pooling2d_5 (MaxPooling2 (None, 17, 17, 64)        0         \n",
      "_________________________________________________________________\n",
      "flatten_1 (Flatten)          (None, 18496)             0         \n",
      "_________________________________________________________________\n",
      "dense_2 (Dense)              (None, 64)                1183808   \n",
      "_________________________________________________________________\n",
      "activation_9 (Activation)    (None, 64)                0         \n",
      "_________________________________________________________________\n",
      "dropout_1 (Dropout)          (None, 64)                0         \n",
      "_________________________________________________________________\n",
      "dense_3 (Dense)              (None, 5)                 325       \n",
      "_________________________________________________________________\n",
      "activation_10 (Activation)   (None, 5)                 0         \n",
      "=================================================================\n",
      "Total params: 1,212,773\n",
      "Trainable params: 1,212,773\n",
      "Non-trainable params: 0\n",
      "_________________________________________________________________\n"
     ]
    }
   ],
   "source": [
    "# load the model to check if saving worked\n",
    "\n",
    "new_model = tf.keras.models.load_model('models/data_aug_model')\n",
    "new_model.summary()"
   ]
  },
  {
   "cell_type": "markdown",
   "id": "65aee4b0-4069-431c-8de9-5c768d4d968d",
   "metadata": {},
   "source": [
    "## Predict Asana for a new image"
   ]
  },
  {
   "cell_type": "code",
   "execution_count": 47,
   "id": "9f7c074a-8b71-49ea-b984-855bfcb3dc3f",
   "metadata": {},
   "outputs": [],
   "source": [
    "# generate a list of class names from the class_indices from the image generator\n",
    "class_map = train_generator.class_indices\n",
    "\n",
    "classes = []\n",
    "for key in class_map.keys():\n",
    "    classes.append(key)"
   ]
  },
  {
   "cell_type": "code",
   "execution_count": 48,
   "id": "2ec94dc2-5ca9-4e04-bec7-44093e017738",
   "metadata": {},
   "outputs": [
    {
     "data": {
      "text/plain": [
       "['downdog', 'goddess', 'plank', 'tree', 'warrior2']"
      ]
     },
     "execution_count": 48,
     "metadata": {},
     "output_type": "execute_result"
    }
   ],
   "source": [
    "classes"
   ]
  },
  {
   "cell_type": "code",
   "execution_count": 49,
   "id": "fd193df9-dbad-46a8-a958-5fc33eb3c0d4",
   "metadata": {},
   "outputs": [],
   "source": [
    "def load_image(filename):\n",
    "        \n",
    "    img = tf.keras.utils.load_img(filename, target_size=(150,150))\n",
    "    img_array = tf.keras.preprocessing.image.img_to_array(img)\n",
    "    img_processed = np.expand_dims(img_array, axis=0)\n",
    "    img_processed /= 255.\n",
    "    return img_array, img_processed"
   ]
  },
  {
   "cell_type": "code",
   "execution_count": 50,
   "id": "af9ab632-8880-4b3c-8467-95caa9fa6e2c",
   "metadata": {},
   "outputs": [],
   "source": [
    "plot_image, image = load_image('C:/Users/Kris/Desktop/Data_Science_Bootcamp/Final_project/data/test/tree/00000006.jpg')"
   ]
  },
  {
   "cell_type": "code",
   "execution_count": 51,
   "id": "40555e11-7e42-41a6-86c8-2c6f26e5f42e",
   "metadata": {},
   "outputs": [
    {
     "data": {
      "text/plain": [
       "<matplotlib.image.AxesImage at 0x2eef2affa90>"
      ]
     },
     "execution_count": 51,
     "metadata": {},
     "output_type": "execute_result"
    },
    {
     "data": {
      "image/png": "[encoded data removed]",
      "text/plain": [
       "<Figure size 432x288 with 1 Axes>"
      ]
     },
     "metadata": {
      "needs_background": "light"
     },
     "output_type": "display_data"
    }
   ],
   "source": [
    "prediction = model.predict(image)\n",
    "index = np.argmax(prediction)\n",
    "\n",
    "plt.title(f'Prediction - {classes[index]}')\n",
    "plt.imshow(plot_image)"
   ]
  },
  {
   "cell_type": "markdown",
   "id": "ed0e792e-4f80-4b3f-8e06-1ef34ee0b72e",
   "metadata": {},
   "source": [
    "## Plot a Confusion Matrix"
   ]
  },
  {
   "cell_type": "code",
   "execution_count": 80,
   "id": "60aca723-07be-4b74-875c-fd5517151d49",
   "metadata": {},
   "outputs": [],
   "source": [
    "def confusion_ma(y_true, y_pred, class_names):\n",
    "    from sklearn.metrics import confusion_matrix, ConfusionMatrixDisplay\n",
    "    cm = confusion_matrix(y_true, y_pred, normalize=None)\n",
    "    disp = ConfusionMatrixDisplay(confusion_matrix=cm, display_labels=class_names)\n",
    "    disp.plot(cmap=plt.cm.Blues)\n",
    "    tick_marks = np.arange(len(classes))\n",
    "    plt.xticks(tick_marks, classes, rotation=45)\n",
    "    plt.yticks(tick_marks, classes)\n",
    "    plt.savefig('confusion_matrix.jpg', transparent=True, dpi=300, bbox_inches='tight')\n",
    "    plt.show()\n",
    "    return plt.show()"
   ]
  },
  {
   "cell_type": "code",
   "execution_count": 55,
   "id": "51b1b723-426a-49db-b257-dfeca03f91eb",
   "metadata": {},
   "outputs": [],
   "source": [
    "class_map = train_generator.class_indices\n",
    "\n",
    "classes = []\n",
    "for key in class_map.keys():\n",
    "    classes.append(key)"
   ]
  },
  {
   "cell_type": "code",
   "execution_count": 60,
   "id": "c4cf5a0b-f999-402a-bec5-7e5a83c62947",
   "metadata": {},
   "outputs": [
    {
     "name": "stdout",
     "output_type": "stream",
     "text": [
      "10/10 [==============================] - 3s 280ms/step\n"
     ]
    }
   ],
   "source": [
    "Y_pred = model.predict(test_generator, verbose = True)\n",
    "y_pred = np.argmax(Y_pred, axis=1)"
   ]
  },
  {
   "cell_type": "code",
   "execution_count": 81,
   "id": "325d43d1-59e2-496e-b8ca-53e0dd89844c",
   "metadata": {},
   "outputs": [
    {
     "data": {
      "image/png": "[encoded data removed]",
      "text/plain": [
       "<Figure size 432x288 with 2 Axes>"
      ]
     },
     "metadata": {
      "needs_background": "light"
     },
     "output_type": "display_data"
    }
   ],
   "source": [
    "confusion_ma(test_generator.classes, y_pred, classes)"
   ]
  },
  {
   "cell_type": "code",
   "execution_count": 68,
   "id": "84051f05-81cd-4e63-b110-2cab3bc7f619",
   "metadata": {},
   "outputs": [
    {
     "data": {
      "text/plain": [
       "<Figure size 432x288 with 0 Axes>"
      ]
     },
     "metadata": {},
     "output_type": "display_data"
    }
   ],
   "source": [
    "cm_plot = plt.savefig('confusion_matrix.png', transparent=True)"
   ]
  }
 ],
 "metadata": {
  "kernelspec": {
   "display_name": "tf",
   "language": "python",
   "name": "tf"
  },
  "language_info": {
   "codemirror_mode": {
    "name": "ipython",
    "version": 3
   },
   "file_extension": ".py",
   "mimetype": "text/x-python",
   "name": "python",
   "nbconvert_exporter": "python",
   "pygments_lexer": "ipython3",
   "version": "3.9.7"
  }
 },
 "nbformat": 4,
 "nbformat_minor": 5
}
